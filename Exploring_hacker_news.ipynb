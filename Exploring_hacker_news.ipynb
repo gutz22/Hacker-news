{
 "metadata": {
  "language_info": {
   "codemirror_mode": {
    "name": "ipython",
    "version": 3
   },
   "file_extension": ".py",
   "mimetype": "text/x-python",
   "name": "python",
   "nbconvert_exporter": "python",
   "pygments_lexer": "ipython3",
   "version": 3
  },
  "orig_nbformat": 2
 },
 "nbformat": 4,
 "nbformat_minor": 2,
 "cells": [
  {
   "source": [
    "# How to grasp attention on Hacker News\n",
    "\n",
    "On this simple guided project, we are going to find out the most popular posts on the [hacker news website](https://news.ycombinator.com/) by exploring and evaluating it's pulic data set."
   ],
   "cell_type": "markdown",
   "metadata": {}
  },
  {
   "cell_type": "code",
   "execution_count": null,
   "metadata": {},
   "outputs": [],
   "source": [
    "from csv import reader\n",
    "opened_file = open(\"hacker_news.csv\")\n",
    "read_file = reader(opened_file)\n",
    "hn = list(read_file)\n",
    "headers, hn = hn[0], hn[1:]"
   ]
  },
  {
   "cell_type": "code",
   "execution_count": null,
   "metadata": {},
   "outputs": [],
   "source": [
    "print(headers, \"\\n\")\n",
    "for i in range(5):\n",
    "    print(hn[i], \"\\n\")"
   ]
  },
  {
   "cell_type": "code",
   "execution_count": null,
   "metadata": {},
   "outputs": [],
   "source": [
    "ask_posts, show_posts, other_posts = [], [], []\n",
    "for row in hn:\n",
    "    title = row[1]\n",
    "    if title.lower().startswith(\"ask hn\"):\n",
    "        ask_posts.append(row)\n",
    "    elif title.lower().startswith(\"show hn\"):\n",
    "        show_posts.append(row)\n",
    "    else:\n",
    "        other_posts.append(row)"
   ]
  },
  {
   "cell_type": "code",
   "execution_count": null,
   "metadata": {},
   "outputs": [],
   "source": [
    "print(\"Number of posts that belongs to each category:\")\n",
    "print(f\"Ask: {len(ask_posts)}\")\n",
    "print(f\"Show: {len(show_posts)}\")\n",
    "print(f\"Other: {len(other_posts)}\")"
   ]
  },
  {
   "cell_type": "code",
   "execution_count": null,
   "metadata": {},
   "outputs": [],
   "source": [
    "def avg_comments(type_post):\n",
    "    total_comments = 0\n",
    "    for row in type_post:\n",
    "        n_comments = int(row[4])\n",
    "        total_comments += n_comments\n",
    "    \n",
    "    avg_comments = total_comments / len(type_post)\n",
    "    return avg_comments"
   ]
  },
  {
   "cell_type": "code",
   "execution_count": null,
   "metadata": {},
   "outputs": [],
   "source": [
    "print(f\"Average number of comments on asking posts: {avg_comments(ask_posts):.2f}\")\n",
    "print(f\"Average number of comments on show posts: {avg_comments(show_posts):.2f}\")"
   ]
  },
  {
   "source": [
    "As we can see, the type of post that gets ahead by looking at the mean of comments on both categories is the asking posts. This is a sign which gives us a broader vision about the site environment, where it can be not only a place to get updated, but also a good option to clear up some specific questions.\n",
    "\n",
    "Furthermore, it indicates us the path wich we'll choose to explore depper in our analysis. The proeminently \"asking posts\" alone still can't give us enough insight in regards to the topic, though. Some reasons for that are that the popularity of a post can be also considerably influenced by other aspects such as the `number of points` and the time of the creation."
   ],
   "cell_type": "markdown",
   "metadata": {}
  },
  {
   "cell_type": "code",
   "execution_count": null,
   "metadata": {},
   "outputs": [],
   "source": [
    "import datetime as dt\n",
    "result_list = []\n",
    "for row in ask_posts:\n",
    "    created_at = row[6]\n",
    "    n_comments = int(row[4])\n",
    "    result_list.append([created_at, n_comments])\n",
    "\n",
    "counts_by_hour, comments_by_hour = {}, {}\n",
    "for row in result_list:\n",
    "    date = row[0]\n",
    "    datetime_obj = dt.datetime.strptime(date, \"%m/%d/%Y %H:%M\")\n",
    "    hour = dt.datetime.strftime(datetime_obj, \"%H\")\n",
    "    n_comments = row[1]\n",
    "    if hour not in counts_by_hour:\n",
    "        counts_by_hour[hour] = 1\n",
    "        comments_by_hour[hour] = n_comments\n",
    "    else:\n",
    "        counts_by_hour[hour] += 1\n",
    "        comments_by_hour[hour] += n_comments"
   ]
  },
  {
   "cell_type": "code",
   "execution_count": null,
   "metadata": {},
   "outputs": [],
   "source": [
    "avg_by_hour = []\n",
    "for hour in comments_by_hour:\n",
    "    avg_by_hour.append([hour, comments_by_hour[hour]/counts_by_hour[hour]])\n",
    "avg_by_hour = sorted(avg_by_hour)\n",
    "for row in avg_by_hour:\n",
    "    print(f\"{row[0]}h : {row[1]:.2f}\")"
   ]
  },
  {
   "cell_type": "code",
   "execution_count": null,
   "metadata": {},
   "outputs": [],
   "source": [
    "swap_avg_by_hour = []\n",
    "for row in avg_by_hour:\n",
    "    swap_avg_by_hour.append([ float(row[1]), row[0] ])\n",
    "    \n",
    "sorted_swap = sorted(swap_avg_by_hour, reverse=True)\n",
    "print(\"Top 5 hours for Ask Posts Comments:\\n\")\n",
    "for row in sorted_swap[:5]:\n",
    "    print(f\"{row[1]}:00: {row[0]:.2f} average comments per post\")"
   ]
  }
 ]
}